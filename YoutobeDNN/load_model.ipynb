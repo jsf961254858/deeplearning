{
 "cells": [
  {
   "cell_type": "code",
   "execution_count": 5,
   "metadata": {},
   "outputs": [
    {
     "name": "stdout",
     "output_type": "stream",
     "text": [
      "[[0.52339363 0.20182325 0.7436456  0.28936234 0.         0.\n",
      "  0.98211515 0.         0.         0.56023264 0.         0.\n",
      "  0.9453497  0.27242425 0.5569505  0.        ]]\n"
     ]
    }
   ],
   "source": [
    "# -*- coding: utf-8 -*-\n",
    "\n",
    "import tensorflow as tf\n",
    "\n",
    "class dataProcess(object):\n",
    "\n",
    "    def parse_fn(self, example):\n",
    "        example_fmt = {\n",
    "            \"visit_items_index\": tf.FixedLenFeature([5], tf.int64),\n",
    "            \"continuous_features_value\": tf.FixedLenFeature([16], tf.float32),\n",
    "            \"next_visit_item_index\": tf.FixedLenFeature([], tf.int64)\n",
    "        }\n",
    "        parsed = tf.parse_single_example(example, example_fmt)\n",
    "        parsed.pop(\"next_visit_item_index\")\n",
    "        return parsed\n",
    "\n",
    "    def next_batch(self, batch_size):\n",
    "        files = tf.data.Dataset.list_files(\n",
    "            './data/train.tfrecords', shuffle=False\n",
    "        )\n",
    "        data_set = files.apply(\n",
    "            tf.contrib.data.parallel_interleave(\n",
    "                lambda filename: tf.data.TFRecordDataset(filename),\n",
    "                cycle_length=16))\n",
    "        data_set = data_set.map(map_func=self.parse_fn, num_parallel_calls=16)\n",
    "        data_set = data_set.prefetch(buffer_size=256)\n",
    "        data_set = data_set.batch(batch_size=batch_size)\n",
    "        iterator = data_set.make_one_shot_iterator()\n",
    "        features = iterator.get_next()\n",
    "        return features\n",
    "\n",
    "if __name__ == \"__main__\":\n",
    "    # 数据预处理#\n",
    "    dataProcess = dataProcess()\n",
    "    features = dataProcess.next_batch(batch_size=1)\n",
    "\n",
    "    signature_key = tf.saved_model.signature_constants.DEFAULT_SERVING_SIGNATURE_DEF_KEY\n",
    "    with tf.Session() as sess:\n",
    "        meta_graph_def = tf.saved_model.loader.load(sess, [tf.saved_model.tag_constants.SERVING],\n",
    "                                                    \"./model/1578401871\")\n",
    "        #print(meta_graph_def)\n",
    "        signature = meta_graph_def.signature_def\n",
    "        visit_items_index_tensor_name = signature[signature_key].inputs[\"visit_items_index\"].name\n",
    "        visit_items_index_tensor = sess.graph.get_tensor_by_name(visit_items_index_tensor_name)\n",
    "        continuous_features_value_tensor_name = signature[signature_key].inputs[\"continuous_features_value\"].name\n",
    "        continuous_features_value_tensor = sess.graph.get_tensor_by_name(continuous_features_value_tensor_name)\n",
    "        user_vector_tensor_name = signature[signature_key].outputs[\"user_vector\"].name\n",
    "        user_vector_tensor = sess.graph.get_tensor_by_name(user_vector_tensor_name)\n",
    "        #index_tensor_name = signature[signature_key].outputs[\"index\"].name\n",
    "        #index_tensor = sess.graph.get_tensor_by_name(index_tensor_name)\n",
    "\n",
    "        features_result = sess.run(features)\n",
    "        feed_dict = {\n",
    "            visit_items_index_tensor: features_result[\"visit_items_index\"], \n",
    "            continuous_features_value_tensor: features_result[\"continuous_features_value\"]}\n",
    "        #predict_outputs = sess.run([user_vector_tensor, index_tensor], feed_dict=feed_dict)\n",
    "        predict_outputs = sess.run([user_vector_tensor], feed_dict=feed_dict)\n",
    "        print(predict_outputs[0])\n",
    "        #print(\"================================================================\")\n",
    "        #print(predict_outputs[1])"
   ]
  }
 ],
 "metadata": {
  "kernelspec": {
   "display_name": "Python 3",
   "language": "python",
   "name": "python3"
  },
  "language_info": {
   "codemirror_mode": {
    "name": "ipython",
    "version": 3
   },
   "file_extension": ".py",
   "mimetype": "text/x-python",
   "name": "python",
   "nbconvert_exporter": "python",
   "pygments_lexer": "ipython3",
   "version": "3.7.3"
  }
 },
 "nbformat": 4,
 "nbformat_minor": 2
}
